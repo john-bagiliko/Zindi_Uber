{
 "cells": [
  {
   "cell_type": "markdown",
   "metadata": {
    "colab_type": "text",
    "id": "MTz_8ZFaygpv"
   },
   "source": [
    "# Example submission for the Zindi hackathon, 12 October 2019\n",
    "\n",
    "### I threw this together quickly so that it's possible for folks to get a submission on the leaderboard as rapidly as possible without getting bogged down in data wrangling. I hope it's useful!\n",
    "\n",
    "There is all sorts of ways you can improve on the model shown here - the object is for this to be a starting point for anyone feeling like they don't know where to begin.\n",
    "\n",
    "I apologise for the hacky data-shaping. Feel free to share your own improved versions :)"
   ]
  },
  {
   "cell_type": "markdown",
   "metadata": {
    "colab_type": "text",
    "id": "E3IqqXbhygpx"
   },
   "source": [
    "# Loading the data"
   ]
  },
  {
   "cell_type": "code",
   "execution_count": 0,
   "metadata": {
    "colab": {},
    "colab_type": "code",
    "id": "WIaLGweqygpy"
   },
   "outputs": [],
   "source": [
    "import pandas as pd\n",
    "import numpy as np\n",
    "from matplotlib import pyplot as plt"
   ]
  },
  {
   "cell_type": "code",
   "execution_count": 0,
   "metadata": {
    "colab": {},
    "colab_type": "code",
    "id": "aTEnfcSwygp4"
   },
   "outputs": [],
   "source": [
    "# We'll generate this later, so don't download it if you're in a hurry\n",
    "sample_sub = pd.read_csv('sample_submission_segments_masked.csv');sample_sub.head()"
   ]
  },
  {
   "cell_type": "code",
   "execution_count": 0,
   "metadata": {
    "colab": {
     "base_uri": "https://localhost:8080/",
     "height": 204
    },
    "colab_type": "code",
    "id": "F7CulRNdygp_",
    "outputId": "5c9479a9-a2be-4f5a-c987-0155db5e44a9"
   },
   "outputs": [
    {
     "data": {
      "text/html": [
       "<div>\n",
       "<style scoped>\n",
       "    .dataframe tbody tr th:only-of-type {\n",
       "        vertical-align: middle;\n",
       "    }\n",
       "\n",
       "    .dataframe tbody tr th {\n",
       "        vertical-align: top;\n",
       "    }\n",
       "\n",
       "    .dataframe thead th {\n",
       "        text-align: right;\n",
       "    }\n",
       "</style>\n",
       "<table border=\"1\" class=\"dataframe\">\n",
       "  <thead>\n",
       "    <tr style=\"text-align: right;\">\n",
       "      <th></th>\n",
       "      <th>EventId</th>\n",
       "      <th>Occurrence Local Date Time</th>\n",
       "      <th>Reporting Agency</th>\n",
       "      <th>Cause</th>\n",
       "      <th>Subcause</th>\n",
       "      <th>Status</th>\n",
       "      <th>longitude</th>\n",
       "      <th>latitude</th>\n",
       "      <th>road_segment_id</th>\n",
       "      <th>isAccident</th>\n",
       "      <th>isPedestrian</th>\n",
       "    </tr>\n",
       "  </thead>\n",
       "  <tbody>\n",
       "    <tr>\n",
       "      <th>0</th>\n",
       "      <td>60558</td>\n",
       "      <td>2016-01-01 00:53:31</td>\n",
       "      <td>Cam</td>\n",
       "      <td>Stationary Vehicle</td>\n",
       "      <td>Vehicle On Shoulder</td>\n",
       "      <td>Closed</td>\n",
       "      <td>18.540896</td>\n",
       "      <td>-33.888275</td>\n",
       "      <td>S0B3CGQ</td>\n",
       "      <td>False</td>\n",
       "      <td>False</td>\n",
       "    </tr>\n",
       "    <tr>\n",
       "      <th>1</th>\n",
       "      <td>60559</td>\n",
       "      <td>2016-01-01 00:54:46</td>\n",
       "      <td>CAMERA</td>\n",
       "      <td>Accident</td>\n",
       "      <td>With A Fixed Object</td>\n",
       "      <td>Closed</td>\n",
       "      <td>18.930756</td>\n",
       "      <td>-34.140857</td>\n",
       "      <td>RYJYAPI</td>\n",
       "      <td>True</td>\n",
       "      <td>False</td>\n",
       "    </tr>\n",
       "    <tr>\n",
       "      <th>2</th>\n",
       "      <td>60560</td>\n",
       "      <td>2016-01-01 02:26:16</td>\n",
       "      <td>Law Enforcement</td>\n",
       "      <td>Accident</td>\n",
       "      <td>Multi Vehicle</td>\n",
       "      <td>Closed</td>\n",
       "      <td>18.553358</td>\n",
       "      <td>-33.959154</td>\n",
       "      <td>U3KP57C</td>\n",
       "      <td>True</td>\n",
       "      <td>False</td>\n",
       "    </tr>\n",
       "    <tr>\n",
       "      <th>3</th>\n",
       "      <td>60561</td>\n",
       "      <td>2016-01-01 02:56:26</td>\n",
       "      <td>CAMERA</td>\n",
       "      <td>Stationary Vehicle</td>\n",
       "      <td>Vehicle On Shoulder</td>\n",
       "      <td>Closed</td>\n",
       "      <td>18.677556</td>\n",
       "      <td>-33.895258</td>\n",
       "      <td>RY0TRQ8</td>\n",
       "      <td>False</td>\n",
       "      <td>False</td>\n",
       "    </tr>\n",
       "    <tr>\n",
       "      <th>4</th>\n",
       "      <td>60562</td>\n",
       "      <td>2016-01-01 03:40:48</td>\n",
       "      <td>CAMERA</td>\n",
       "      <td>Accident</td>\n",
       "      <td>Multi Vehicle</td>\n",
       "      <td>Closed</td>\n",
       "      <td>18.837132</td>\n",
       "      <td>-34.087051</td>\n",
       "      <td>8LOVJZ3</td>\n",
       "      <td>True</td>\n",
       "      <td>False</td>\n",
       "    </tr>\n",
       "  </tbody>\n",
       "</table>\n",
       "</div>"
      ],
      "text/plain": [
       "   EventId Occurrence Local Date Time  ... isAccident isPedestrian\n",
       "0    60558        2016-01-01 00:53:31  ...      False        False\n",
       "1    60559        2016-01-01 00:54:46  ...       True        False\n",
       "2    60560        2016-01-01 02:26:16  ...       True        False\n",
       "3    60561        2016-01-01 02:56:26  ...      False        False\n",
       "4    60562        2016-01-01 03:40:48  ...       True        False\n",
       "\n",
       "[5 rows x 11 columns]"
      ]
     },
     "execution_count": 2,
     "metadata": {
      "tags": []
     },
     "output_type": "execute_result"
    }
   ],
   "source": [
    "# Make sure train is in the folder where this notebook is running\n",
    "data = pd.read_csv('train.csv', \n",
    "                   parse_dates = ['Occurrence Local Date Time'])\n",
    "data.head()"
   ]
  },
  {
   "cell_type": "code",
   "execution_count": 0,
   "metadata": {
    "colab": {
     "base_uri": "https://localhost:8080/",
     "height": 34
    },
    "colab_type": "code",
    "id": "2JrRYZvcJSAA",
    "outputId": "f7f3b9ba-fa36-432b-c939-2221606cdbeb"
   },
   "outputs": [
    {
     "data": {
      "text/plain": [
       "(544,)"
      ]
     },
     "execution_count": 3,
     "metadata": {
      "tags": []
     },
     "output_type": "execute_result"
    }
   ],
   "source": [
    "data['road_segment_id'].unique().shape"
   ]
  },
  {
   "cell_type": "markdown",
   "metadata": {
    "colab_type": "text",
    "id": "lFuCpIZ8ygqE"
   },
   "source": [
    "# We want train and test arrays that match the sample submission.\n",
    "\n",
    "### Don't bother reading too closely - check the output and move on. I did this so you don't have to!"
   ]
  },
  {
   "cell_type": "markdown",
   "metadata": {
    "colab_type": "text",
    "id": "k2fWU2nxygqG"
   },
   "source": [
    "First, we split by date. Here I'm using only 2017 for training, and part of 2018 for local testing."
   ]
  },
  {
   "cell_type": "code",
   "execution_count": 0,
   "metadata": {
    "colab": {},
    "colab_type": "code",
    "id": "vc9PQ_rNygqI"
   },
   "outputs": [],
   "source": [
    "# Train on 2017\n",
    "train = data.loc[data['Occurrence Local Date Time'] < '2018-01-01']\n",
    "train = train.loc[train['Occurrence Local Date Time'] >= '2017-01-01']\n",
    "\n",
    "# Test locally on the last part of 2018\n",
    "local_test = data.loc[data['Occurrence Local Date Time'] < '2019-01-01']\n",
    "local_test = local_test.loc[local_test['Occurrence Local Date Time'] >= '2018-09-01']"
   ]
  },
  {
   "cell_type": "markdown",
   "metadata": {
    "colab_type": "text",
    "id": "r6c3GNkbygqN"
   },
   "source": [
    "Now we need to reshape these. "
   ]
  },
  {
   "cell_type": "code",
   "execution_count": 0,
   "metadata": {
    "colab": {
     "base_uri": "https://localhost:8080/",
     "height": 423
    },
    "colab_type": "code",
    "id": "3UeXMhW5ygqP",
    "outputId": "d184fa8d-d754-4b6e-9ebf-d5f49f277d41"
   },
   "outputs": [
    {
     "data": {
      "text/html": [
       "<div>\n",
       "<style scoped>\n",
       "    .dataframe tbody tr th:only-of-type {\n",
       "        vertical-align: middle;\n",
       "    }\n",
       "\n",
       "    .dataframe tbody tr th {\n",
       "        vertical-align: top;\n",
       "    }\n",
       "\n",
       "    .dataframe thead th {\n",
       "        text-align: right;\n",
       "    }\n",
       "</style>\n",
       "<table border=\"1\" class=\"dataframe\">\n",
       "  <thead>\n",
       "    <tr style=\"text-align: right;\">\n",
       "      <th></th>\n",
       "      <th>datetime</th>\n",
       "      <th>S0B3CGQ</th>\n",
       "      <th>RYJYAPI</th>\n",
       "      <th>U3KP57C</th>\n",
       "      <th>RY0TRQ8</th>\n",
       "      <th>8LOVJZ3</th>\n",
       "      <th>X4UA382</th>\n",
       "      <th>0QR8FDW</th>\n",
       "      <th>DZABHQW</th>\n",
       "      <th>EKZN1VM</th>\n",
       "      <th>H9XYX9Q</th>\n",
       "      <th>03RHJ3G</th>\n",
       "      <th>FTX7LB8</th>\n",
       "      <th>Q03FQ74</th>\n",
       "      <th>5AC6YRF</th>\n",
       "      <th>1RWEBRU</th>\n",
       "      <th>DCB3LQM</th>\n",
       "      <th>HN83F3L</th>\n",
       "      <th>SPPGKO2</th>\n",
       "      <th>C1ERJ22</th>\n",
       "      <th>AJRKP0C</th>\n",
       "      <th>UUZT4OE</th>\n",
       "      <th>WAC029P</th>\n",
       "      <th>JT4HGZ2</th>\n",
       "      <th>8Z5P9T1</th>\n",
       "      <th>UAXX1ZE</th>\n",
       "      <th>74A6FL0</th>\n",
       "      <th>2M1UBKJ</th>\n",
       "      <th>E5D3KEB</th>\n",
       "      <th>NQSL7FX</th>\n",
       "      <th>S200A1J</th>\n",
       "      <th>ETFFDX5</th>\n",
       "      <th>R6JUSZT</th>\n",
       "      <th>EDXK0HP</th>\n",
       "      <th>N5NO82G</th>\n",
       "      <th>5DHNI4S</th>\n",
       "      <th>VUYACXV</th>\n",
       "      <th>VMCY8BI</th>\n",
       "      <th>927BHUF</th>\n",
       "      <th>3MW0MN9</th>\n",
       "      <th>...</th>\n",
       "      <th>J8FAZRB</th>\n",
       "      <th>P66KAPS</th>\n",
       "      <th>CJJI1XY</th>\n",
       "      <th>K3N8ADC</th>\n",
       "      <th>SG89YSS</th>\n",
       "      <th>XYFQJ1Q</th>\n",
       "      <th>QTT8QNT</th>\n",
       "      <th>LC8FONX</th>\n",
       "      <th>WJXP54Z</th>\n",
       "      <th>GVQD9D6</th>\n",
       "      <th>64QSPWU</th>\n",
       "      <th>LRCHHQJ</th>\n",
       "      <th>Q2HCM1O</th>\n",
       "      <th>F055OA5</th>\n",
       "      <th>SY568EU</th>\n",
       "      <th>QBSA1OR</th>\n",
       "      <th>8YJIRQ2</th>\n",
       "      <th>KVOVDD8</th>\n",
       "      <th>H983665</th>\n",
       "      <th>7T2W8WU</th>\n",
       "      <th>4NSOFJG</th>\n",
       "      <th>4UAL23D</th>\n",
       "      <th>956JU5F</th>\n",
       "      <th>B8NRA4K</th>\n",
       "      <th>PH8DIYU</th>\n",
       "      <th>F47NAGJ</th>\n",
       "      <th>1NG8I9K</th>\n",
       "      <th>ZP9STNM</th>\n",
       "      <th>D3349RH</th>\n",
       "      <th>E4L0I98</th>\n",
       "      <th>YVR8GT6</th>\n",
       "      <th>ZAVM3PJ</th>\n",
       "      <th>DS4NLQE</th>\n",
       "      <th>HR19LL7</th>\n",
       "      <th>1451FOG</th>\n",
       "      <th>2ON8NSO</th>\n",
       "      <th>NFUEAN5</th>\n",
       "      <th>4T821GV</th>\n",
       "      <th>J6A19TW</th>\n",
       "      <th>43RCYZH</th>\n",
       "    </tr>\n",
       "  </thead>\n",
       "  <tbody>\n",
       "    <tr>\n",
       "      <th>0</th>\n",
       "      <td>2017-01-01 00:00:00</td>\n",
       "      <td>0</td>\n",
       "      <td>0</td>\n",
       "      <td>0</td>\n",
       "      <td>0</td>\n",
       "      <td>0</td>\n",
       "      <td>0</td>\n",
       "      <td>0</td>\n",
       "      <td>0</td>\n",
       "      <td>0</td>\n",
       "      <td>0</td>\n",
       "      <td>0</td>\n",
       "      <td>0</td>\n",
       "      <td>0</td>\n",
       "      <td>0</td>\n",
       "      <td>0</td>\n",
       "      <td>0</td>\n",
       "      <td>0</td>\n",
       "      <td>0</td>\n",
       "      <td>0</td>\n",
       "      <td>0</td>\n",
       "      <td>0</td>\n",
       "      <td>0</td>\n",
       "      <td>0</td>\n",
       "      <td>0</td>\n",
       "      <td>0</td>\n",
       "      <td>0</td>\n",
       "      <td>0</td>\n",
       "      <td>0</td>\n",
       "      <td>0</td>\n",
       "      <td>0</td>\n",
       "      <td>0</td>\n",
       "      <td>0</td>\n",
       "      <td>0</td>\n",
       "      <td>0</td>\n",
       "      <td>0</td>\n",
       "      <td>0</td>\n",
       "      <td>0</td>\n",
       "      <td>0</td>\n",
       "      <td>0</td>\n",
       "      <td>...</td>\n",
       "      <td>0</td>\n",
       "      <td>0</td>\n",
       "      <td>0</td>\n",
       "      <td>0</td>\n",
       "      <td>0</td>\n",
       "      <td>0</td>\n",
       "      <td>0</td>\n",
       "      <td>0</td>\n",
       "      <td>0</td>\n",
       "      <td>0</td>\n",
       "      <td>0</td>\n",
       "      <td>0</td>\n",
       "      <td>0</td>\n",
       "      <td>0</td>\n",
       "      <td>0</td>\n",
       "      <td>0</td>\n",
       "      <td>0</td>\n",
       "      <td>0</td>\n",
       "      <td>0</td>\n",
       "      <td>0</td>\n",
       "      <td>0</td>\n",
       "      <td>0</td>\n",
       "      <td>0</td>\n",
       "      <td>0</td>\n",
       "      <td>0</td>\n",
       "      <td>0</td>\n",
       "      <td>0</td>\n",
       "      <td>0</td>\n",
       "      <td>0</td>\n",
       "      <td>0</td>\n",
       "      <td>0</td>\n",
       "      <td>0</td>\n",
       "      <td>0</td>\n",
       "      <td>0</td>\n",
       "      <td>0</td>\n",
       "      <td>0</td>\n",
       "      <td>0</td>\n",
       "      <td>0</td>\n",
       "      <td>0</td>\n",
       "      <td>0</td>\n",
       "    </tr>\n",
       "    <tr>\n",
       "      <th>1</th>\n",
       "      <td>2017-01-01 01:00:00</td>\n",
       "      <td>0</td>\n",
       "      <td>0</td>\n",
       "      <td>0</td>\n",
       "      <td>0</td>\n",
       "      <td>0</td>\n",
       "      <td>0</td>\n",
       "      <td>0</td>\n",
       "      <td>0</td>\n",
       "      <td>0</td>\n",
       "      <td>0</td>\n",
       "      <td>0</td>\n",
       "      <td>0</td>\n",
       "      <td>0</td>\n",
       "      <td>0</td>\n",
       "      <td>0</td>\n",
       "      <td>0</td>\n",
       "      <td>0</td>\n",
       "      <td>0</td>\n",
       "      <td>0</td>\n",
       "      <td>0</td>\n",
       "      <td>0</td>\n",
       "      <td>0</td>\n",
       "      <td>0</td>\n",
       "      <td>0</td>\n",
       "      <td>0</td>\n",
       "      <td>0</td>\n",
       "      <td>0</td>\n",
       "      <td>0</td>\n",
       "      <td>0</td>\n",
       "      <td>0</td>\n",
       "      <td>0</td>\n",
       "      <td>0</td>\n",
       "      <td>0</td>\n",
       "      <td>0</td>\n",
       "      <td>0</td>\n",
       "      <td>0</td>\n",
       "      <td>0</td>\n",
       "      <td>0</td>\n",
       "      <td>0</td>\n",
       "      <td>...</td>\n",
       "      <td>0</td>\n",
       "      <td>0</td>\n",
       "      <td>0</td>\n",
       "      <td>0</td>\n",
       "      <td>0</td>\n",
       "      <td>0</td>\n",
       "      <td>0</td>\n",
       "      <td>0</td>\n",
       "      <td>0</td>\n",
       "      <td>0</td>\n",
       "      <td>0</td>\n",
       "      <td>0</td>\n",
       "      <td>0</td>\n",
       "      <td>0</td>\n",
       "      <td>0</td>\n",
       "      <td>0</td>\n",
       "      <td>0</td>\n",
       "      <td>0</td>\n",
       "      <td>0</td>\n",
       "      <td>0</td>\n",
       "      <td>0</td>\n",
       "      <td>0</td>\n",
       "      <td>0</td>\n",
       "      <td>0</td>\n",
       "      <td>0</td>\n",
       "      <td>0</td>\n",
       "      <td>0</td>\n",
       "      <td>0</td>\n",
       "      <td>0</td>\n",
       "      <td>0</td>\n",
       "      <td>0</td>\n",
       "      <td>0</td>\n",
       "      <td>0</td>\n",
       "      <td>0</td>\n",
       "      <td>0</td>\n",
       "      <td>0</td>\n",
       "      <td>0</td>\n",
       "      <td>0</td>\n",
       "      <td>0</td>\n",
       "      <td>0</td>\n",
       "    </tr>\n",
       "    <tr>\n",
       "      <th>2</th>\n",
       "      <td>2017-01-01 02:00:00</td>\n",
       "      <td>0</td>\n",
       "      <td>0</td>\n",
       "      <td>0</td>\n",
       "      <td>0</td>\n",
       "      <td>0</td>\n",
       "      <td>0</td>\n",
       "      <td>0</td>\n",
       "      <td>0</td>\n",
       "      <td>0</td>\n",
       "      <td>0</td>\n",
       "      <td>0</td>\n",
       "      <td>0</td>\n",
       "      <td>0</td>\n",
       "      <td>0</td>\n",
       "      <td>0</td>\n",
       "      <td>0</td>\n",
       "      <td>0</td>\n",
       "      <td>0</td>\n",
       "      <td>0</td>\n",
       "      <td>0</td>\n",
       "      <td>0</td>\n",
       "      <td>0</td>\n",
       "      <td>0</td>\n",
       "      <td>0</td>\n",
       "      <td>0</td>\n",
       "      <td>0</td>\n",
       "      <td>0</td>\n",
       "      <td>0</td>\n",
       "      <td>0</td>\n",
       "      <td>0</td>\n",
       "      <td>0</td>\n",
       "      <td>0</td>\n",
       "      <td>0</td>\n",
       "      <td>0</td>\n",
       "      <td>0</td>\n",
       "      <td>0</td>\n",
       "      <td>0</td>\n",
       "      <td>0</td>\n",
       "      <td>0</td>\n",
       "      <td>...</td>\n",
       "      <td>0</td>\n",
       "      <td>0</td>\n",
       "      <td>0</td>\n",
       "      <td>0</td>\n",
       "      <td>0</td>\n",
       "      <td>0</td>\n",
       "      <td>0</td>\n",
       "      <td>0</td>\n",
       "      <td>0</td>\n",
       "      <td>0</td>\n",
       "      <td>0</td>\n",
       "      <td>0</td>\n",
       "      <td>0</td>\n",
       "      <td>0</td>\n",
       "      <td>0</td>\n",
       "      <td>0</td>\n",
       "      <td>0</td>\n",
       "      <td>0</td>\n",
       "      <td>0</td>\n",
       "      <td>0</td>\n",
       "      <td>0</td>\n",
       "      <td>0</td>\n",
       "      <td>0</td>\n",
       "      <td>0</td>\n",
       "      <td>0</td>\n",
       "      <td>0</td>\n",
       "      <td>0</td>\n",
       "      <td>0</td>\n",
       "      <td>0</td>\n",
       "      <td>0</td>\n",
       "      <td>0</td>\n",
       "      <td>0</td>\n",
       "      <td>0</td>\n",
       "      <td>0</td>\n",
       "      <td>0</td>\n",
       "      <td>0</td>\n",
       "      <td>0</td>\n",
       "      <td>0</td>\n",
       "      <td>0</td>\n",
       "      <td>0</td>\n",
       "    </tr>\n",
       "    <tr>\n",
       "      <th>3</th>\n",
       "      <td>2017-01-01 03:00:00</td>\n",
       "      <td>0</td>\n",
       "      <td>0</td>\n",
       "      <td>0</td>\n",
       "      <td>0</td>\n",
       "      <td>0</td>\n",
       "      <td>0</td>\n",
       "      <td>0</td>\n",
       "      <td>0</td>\n",
       "      <td>0</td>\n",
       "      <td>0</td>\n",
       "      <td>0</td>\n",
       "      <td>0</td>\n",
       "      <td>0</td>\n",
       "      <td>0</td>\n",
       "      <td>0</td>\n",
       "      <td>0</td>\n",
       "      <td>0</td>\n",
       "      <td>0</td>\n",
       "      <td>0</td>\n",
       "      <td>0</td>\n",
       "      <td>0</td>\n",
       "      <td>0</td>\n",
       "      <td>0</td>\n",
       "      <td>0</td>\n",
       "      <td>0</td>\n",
       "      <td>0</td>\n",
       "      <td>0</td>\n",
       "      <td>0</td>\n",
       "      <td>0</td>\n",
       "      <td>0</td>\n",
       "      <td>0</td>\n",
       "      <td>0</td>\n",
       "      <td>0</td>\n",
       "      <td>0</td>\n",
       "      <td>0</td>\n",
       "      <td>0</td>\n",
       "      <td>0</td>\n",
       "      <td>0</td>\n",
       "      <td>0</td>\n",
       "      <td>...</td>\n",
       "      <td>0</td>\n",
       "      <td>0</td>\n",
       "      <td>0</td>\n",
       "      <td>0</td>\n",
       "      <td>0</td>\n",
       "      <td>0</td>\n",
       "      <td>0</td>\n",
       "      <td>0</td>\n",
       "      <td>0</td>\n",
       "      <td>0</td>\n",
       "      <td>0</td>\n",
       "      <td>0</td>\n",
       "      <td>0</td>\n",
       "      <td>0</td>\n",
       "      <td>0</td>\n",
       "      <td>0</td>\n",
       "      <td>0</td>\n",
       "      <td>0</td>\n",
       "      <td>0</td>\n",
       "      <td>0</td>\n",
       "      <td>0</td>\n",
       "      <td>0</td>\n",
       "      <td>0</td>\n",
       "      <td>0</td>\n",
       "      <td>0</td>\n",
       "      <td>0</td>\n",
       "      <td>0</td>\n",
       "      <td>0</td>\n",
       "      <td>0</td>\n",
       "      <td>0</td>\n",
       "      <td>0</td>\n",
       "      <td>0</td>\n",
       "      <td>0</td>\n",
       "      <td>0</td>\n",
       "      <td>0</td>\n",
       "      <td>0</td>\n",
       "      <td>0</td>\n",
       "      <td>0</td>\n",
       "      <td>0</td>\n",
       "      <td>0</td>\n",
       "    </tr>\n",
       "    <tr>\n",
       "      <th>4</th>\n",
       "      <td>2017-01-01 04:00:00</td>\n",
       "      <td>0</td>\n",
       "      <td>0</td>\n",
       "      <td>0</td>\n",
       "      <td>0</td>\n",
       "      <td>0</td>\n",
       "      <td>0</td>\n",
       "      <td>0</td>\n",
       "      <td>0</td>\n",
       "      <td>0</td>\n",
       "      <td>0</td>\n",
       "      <td>0</td>\n",
       "      <td>0</td>\n",
       "      <td>0</td>\n",
       "      <td>0</td>\n",
       "      <td>0</td>\n",
       "      <td>0</td>\n",
       "      <td>0</td>\n",
       "      <td>0</td>\n",
       "      <td>0</td>\n",
       "      <td>0</td>\n",
       "      <td>0</td>\n",
       "      <td>0</td>\n",
       "      <td>0</td>\n",
       "      <td>0</td>\n",
       "      <td>0</td>\n",
       "      <td>0</td>\n",
       "      <td>0</td>\n",
       "      <td>0</td>\n",
       "      <td>0</td>\n",
       "      <td>0</td>\n",
       "      <td>0</td>\n",
       "      <td>0</td>\n",
       "      <td>0</td>\n",
       "      <td>0</td>\n",
       "      <td>0</td>\n",
       "      <td>0</td>\n",
       "      <td>0</td>\n",
       "      <td>0</td>\n",
       "      <td>0</td>\n",
       "      <td>...</td>\n",
       "      <td>0</td>\n",
       "      <td>0</td>\n",
       "      <td>0</td>\n",
       "      <td>0</td>\n",
       "      <td>0</td>\n",
       "      <td>0</td>\n",
       "      <td>0</td>\n",
       "      <td>0</td>\n",
       "      <td>0</td>\n",
       "      <td>0</td>\n",
       "      <td>0</td>\n",
       "      <td>0</td>\n",
       "      <td>0</td>\n",
       "      <td>0</td>\n",
       "      <td>0</td>\n",
       "      <td>0</td>\n",
       "      <td>0</td>\n",
       "      <td>0</td>\n",
       "      <td>0</td>\n",
       "      <td>0</td>\n",
       "      <td>0</td>\n",
       "      <td>0</td>\n",
       "      <td>0</td>\n",
       "      <td>0</td>\n",
       "      <td>0</td>\n",
       "      <td>0</td>\n",
       "      <td>0</td>\n",
       "      <td>0</td>\n",
       "      <td>0</td>\n",
       "      <td>0</td>\n",
       "      <td>0</td>\n",
       "      <td>0</td>\n",
       "      <td>0</td>\n",
       "      <td>0</td>\n",
       "      <td>0</td>\n",
       "      <td>0</td>\n",
       "      <td>0</td>\n",
       "      <td>0</td>\n",
       "      <td>0</td>\n",
       "      <td>0</td>\n",
       "    </tr>\n",
       "  </tbody>\n",
       "</table>\n",
       "<p>5 rows × 545 columns</p>\n",
       "</div>"
      ],
      "text/plain": [
       "             datetime  S0B3CGQ  RYJYAPI  ...  4T821GV  J6A19TW  43RCYZH\n",
       "0 2017-01-01 00:00:00        0        0  ...        0        0        0\n",
       "1 2017-01-01 01:00:00        0        0  ...        0        0        0\n",
       "2 2017-01-01 02:00:00        0        0  ...        0        0        0\n",
       "3 2017-01-01 03:00:00        0        0  ...        0        0        0\n",
       "4 2017-01-01 04:00:00        0        0  ...        0        0        0\n",
       "\n",
       "[5 rows x 545 columns]"
      ]
     },
     "execution_count": 5,
     "metadata": {
      "tags": []
     },
     "output_type": "execute_result"
    }
   ],
   "source": [
    "# Create a dataframe with a column for each segment_id (sid)\n",
    "# Each row represents an hour.\n",
    "\n",
    "sids = data['road_segment_id'].unique()\n",
    "\n",
    "dts = pd.date_range('2017-01-01',\n",
    "                    '2018-01-01',\n",
    "                    freq=\"1h\")\n",
    "tr = pd.DataFrame({'datetime':dts})\n",
    "\n",
    "for sid in sids:\n",
    "    tr[str(sid)] = 0\n",
    "    events = train.loc[train['road_segment_id'] == sid]\n",
    "    dts = events['Occurrence Local Date Time'].dt.round('H')\n",
    "    dates = dts.astype(str).unique()\n",
    "    tr.loc[tr['datetime'].isin(dates), sid] = 1\n",
    "tr.head()"
   ]
  },
  {
   "cell_type": "code",
   "execution_count": 0,
   "metadata": {
    "colab": {
     "base_uri": "https://localhost:8080/",
     "height": 204
    },
    "colab_type": "code",
    "id": "200FOHNKygqT",
    "outputId": "53172220-fad8-40d3-b04e-9fc75c0d8cca"
   },
   "outputs": [
    {
     "data": {
      "text/html": [
       "<div>\n",
       "<style scoped>\n",
       "    .dataframe tbody tr th:only-of-type {\n",
       "        vertical-align: middle;\n",
       "    }\n",
       "\n",
       "    .dataframe tbody tr th {\n",
       "        vertical-align: top;\n",
       "    }\n",
       "\n",
       "    .dataframe thead th {\n",
       "        text-align: right;\n",
       "    }\n",
       "</style>\n",
       "<table border=\"1\" class=\"dataframe\">\n",
       "  <thead>\n",
       "    <tr style=\"text-align: right;\">\n",
       "      <th></th>\n",
       "      <th>datetime x segment_id</th>\n",
       "      <th>datetime</th>\n",
       "      <th>segment_id</th>\n",
       "      <th>y</th>\n",
       "    </tr>\n",
       "  </thead>\n",
       "  <tbody>\n",
       "    <tr>\n",
       "      <th>0</th>\n",
       "      <td>2017-01-01 00:00:00 x S0B3CGQ</td>\n",
       "      <td>2017-01-01 00:00:00</td>\n",
       "      <td>S0B3CGQ</td>\n",
       "      <td>0</td>\n",
       "    </tr>\n",
       "    <tr>\n",
       "      <th>1</th>\n",
       "      <td>2017-01-01 00:00:00 x RYJYAPI</td>\n",
       "      <td>2017-01-01 00:00:00</td>\n",
       "      <td>RYJYAPI</td>\n",
       "      <td>0</td>\n",
       "    </tr>\n",
       "    <tr>\n",
       "      <th>2</th>\n",
       "      <td>2017-01-01 00:00:00 x U3KP57C</td>\n",
       "      <td>2017-01-01 00:00:00</td>\n",
       "      <td>U3KP57C</td>\n",
       "      <td>0</td>\n",
       "    </tr>\n",
       "    <tr>\n",
       "      <th>3</th>\n",
       "      <td>2017-01-01 00:00:00 x RY0TRQ8</td>\n",
       "      <td>2017-01-01 00:00:00</td>\n",
       "      <td>RY0TRQ8</td>\n",
       "      <td>0</td>\n",
       "    </tr>\n",
       "    <tr>\n",
       "      <th>4</th>\n",
       "      <td>2017-01-01 00:00:00 x 8LOVJZ3</td>\n",
       "      <td>2017-01-01 00:00:00</td>\n",
       "      <td>8LOVJZ3</td>\n",
       "      <td>0</td>\n",
       "    </tr>\n",
       "  </tbody>\n",
       "</table>\n",
       "</div>"
      ],
      "text/plain": [
       "           datetime x segment_id             datetime segment_id  y\n",
       "0  2017-01-01 00:00:00 x S0B3CGQ  2017-01-01 00:00:00    S0B3CGQ  0\n",
       "1  2017-01-01 00:00:00 x RYJYAPI  2017-01-01 00:00:00    RYJYAPI  0\n",
       "2  2017-01-01 00:00:00 x U3KP57C  2017-01-01 00:00:00    U3KP57C  0\n",
       "3  2017-01-01 00:00:00 x RY0TRQ8  2017-01-01 00:00:00    RY0TRQ8  0\n",
       "4  2017-01-01 00:00:00 x 8LOVJZ3  2017-01-01 00:00:00    8LOVJZ3  0"
      ]
     },
     "execution_count": 6,
     "metadata": {
      "tags": []
     },
     "output_type": "execute_result"
    }
   ],
   "source": [
    "# Reshape this as in sample submission\n",
    "# I add some extra columns that may be useful\n",
    "train = pd.DataFrame({\n",
    "    'datetime x segment_id':np.concatenate([[str(x) + \" x \" + str(c) \n",
    "                                             for c in sids] \n",
    "                                            for x in tr['datetime']]),\n",
    "    'datetime':np.concatenate([[str(x) for c in sids] for x in tr['datetime']]),\n",
    "    'segment_id':np.concatenate([[str(c) for c in sids] for x in tr['datetime']]),\n",
    "    'y':tr[sids].values.flatten()\n",
    "})\n",
    "train.head()"
   ]
  },
  {
   "cell_type": "code",
   "execution_count": 0,
   "metadata": {
    "colab": {
     "base_uri": "https://localhost:8080/",
     "height": 204
    },
    "colab_type": "code",
    "id": "1foBi4QwygqZ",
    "outputId": "2ba1819b-e4df-46f5-a743-4f1ad3ed737f"
   },
   "outputs": [
    {
     "data": {
      "text/html": [
       "<div>\n",
       "<style scoped>\n",
       "    .dataframe tbody tr th:only-of-type {\n",
       "        vertical-align: middle;\n",
       "    }\n",
       "\n",
       "    .dataframe tbody tr th {\n",
       "        vertical-align: top;\n",
       "    }\n",
       "\n",
       "    .dataframe thead th {\n",
       "        text-align: right;\n",
       "    }\n",
       "</style>\n",
       "<table border=\"1\" class=\"dataframe\">\n",
       "  <thead>\n",
       "    <tr style=\"text-align: right;\">\n",
       "      <th></th>\n",
       "      <th>datetime x segment_id</th>\n",
       "      <th>datetime</th>\n",
       "      <th>segment_id</th>\n",
       "      <th>y</th>\n",
       "    </tr>\n",
       "  </thead>\n",
       "  <tbody>\n",
       "    <tr>\n",
       "      <th>0</th>\n",
       "      <td>2018-09-01 00:00:00 x S0B3CGQ</td>\n",
       "      <td>2018-09-01 00:00:00</td>\n",
       "      <td>S0B3CGQ</td>\n",
       "      <td>0</td>\n",
       "    </tr>\n",
       "    <tr>\n",
       "      <th>1</th>\n",
       "      <td>2018-09-01 00:00:00 x RYJYAPI</td>\n",
       "      <td>2018-09-01 00:00:00</td>\n",
       "      <td>RYJYAPI</td>\n",
       "      <td>0</td>\n",
       "    </tr>\n",
       "    <tr>\n",
       "      <th>2</th>\n",
       "      <td>2018-09-01 00:00:00 x U3KP57C</td>\n",
       "      <td>2018-09-01 00:00:00</td>\n",
       "      <td>U3KP57C</td>\n",
       "      <td>0</td>\n",
       "    </tr>\n",
       "    <tr>\n",
       "      <th>3</th>\n",
       "      <td>2018-09-01 00:00:00 x RY0TRQ8</td>\n",
       "      <td>2018-09-01 00:00:00</td>\n",
       "      <td>RY0TRQ8</td>\n",
       "      <td>0</td>\n",
       "    </tr>\n",
       "    <tr>\n",
       "      <th>4</th>\n",
       "      <td>2018-09-01 00:00:00 x 8LOVJZ3</td>\n",
       "      <td>2018-09-01 00:00:00</td>\n",
       "      <td>8LOVJZ3</td>\n",
       "      <td>0</td>\n",
       "    </tr>\n",
       "  </tbody>\n",
       "</table>\n",
       "</div>"
      ],
      "text/plain": [
       "           datetime x segment_id             datetime segment_id  y\n",
       "0  2018-09-01 00:00:00 x S0B3CGQ  2018-09-01 00:00:00    S0B3CGQ  0\n",
       "1  2018-09-01 00:00:00 x RYJYAPI  2018-09-01 00:00:00    RYJYAPI  0\n",
       "2  2018-09-01 00:00:00 x U3KP57C  2018-09-01 00:00:00    U3KP57C  0\n",
       "3  2018-09-01 00:00:00 x RY0TRQ8  2018-09-01 00:00:00    RY0TRQ8  0\n",
       "4  2018-09-01 00:00:00 x 8LOVJZ3  2018-09-01 00:00:00    8LOVJZ3  0"
      ]
     },
     "execution_count": 7,
     "metadata": {
      "tags": []
     },
     "output_type": "execute_result"
    }
   ],
   "source": [
    "# Same for local test (test from now on)\n",
    "dts = pd.date_range('2018-09-01','2018-12-31',\n",
    "                    freq=\"1h\")\n",
    "tr = pd.DataFrame({'datetime':dts})\n",
    "\n",
    "for sid in sids:\n",
    "    tr[str(sid)] = 0\n",
    "    events = local_test.loc[local_test['road_segment_id'] == sid]\n",
    "    dts = events['Occurrence Local Date Time'].dt.round('H')\n",
    "    dates = dts.astype(str).unique()\n",
    "    tr.loc[tr['datetime'].isin(dates), sid] = 1\n",
    "    \n",
    "test = pd.DataFrame({\n",
    "    'datetime x segment_id':np.concatenate([[str(x) + \" x \" + str(c) \n",
    "                                             for c in sids] \n",
    "                                            for x in tr['datetime']]),\n",
    "    'datetime':np.concatenate([[str(x) for c in sids] for x in tr['datetime']]),\n",
    "    'segment_id':np.concatenate([[str(c) for c in sids] for x in tr['datetime']]),\n",
    "    'y':tr[sids].values.flatten()\n",
    "})\n",
    "test.head()"
   ]
  },
  {
   "cell_type": "code",
   "execution_count": 0,
   "metadata": {
    "colab": {
     "base_uri": "https://localhost:8080/",
     "height": 34
    },
    "colab_type": "code",
    "id": "htT6oby66vRS",
    "outputId": "8f2a7aa2-8e9a-4b86-9295-0314148aba1a"
   },
   "outputs": [
    {
     "data": {
      "text/plain": [
       "14235"
      ]
     },
     "execution_count": 8,
     "metadata": {
      "tags": []
     },
     "output_type": "execute_result"
    }
   ],
   "source": [
    "train.y.sum()"
   ]
  },
  {
   "cell_type": "markdown",
   "metadata": {
    "colab_type": "text",
    "id": "xsdEtjE6ygqh"
   },
   "source": [
    "# Now that we have these, what features can we add?"
   ]
  },
  {
   "cell_type": "markdown",
   "metadata": {
    "colab_type": "text",
    "id": "sAn5K0spygqj"
   },
   "source": [
    "All we have to go on is the date and segment ID. The shapefile of road segments has info on road type etc. We could get location for the segments, and use the uber movement data to add traffic speed for that area. Finally, we can do date-related values. I'll do the third first as it's a nice easy way to get something."
   ]
  },
  {
   "cell_type": "code",
   "execution_count": 0,
   "metadata": {
    "colab": {},
    "colab_type": "code",
    "id": "MfdgCfbrygql"
   },
   "outputs": [],
   "source": [
    "train['datetime'] = pd.to_datetime(train['datetime'])\n",
    "train['day'] = train['datetime'].dt.weekday_name"
   ]
  },
  {
   "cell_type": "code",
   "execution_count": 0,
   "metadata": {
    "colab": {
     "base_uri": "https://localhost:8080/",
     "height": 204
    },
    "colab_type": "code",
    "id": "RDQgfajRygqs",
    "outputId": "b73f2d6c-bc3c-4fe4-d133-842dac56df7a"
   },
   "outputs": [
    {
     "data": {
      "text/html": [
       "<div>\n",
       "<style scoped>\n",
       "    .dataframe tbody tr th:only-of-type {\n",
       "        vertical-align: middle;\n",
       "    }\n",
       "\n",
       "    .dataframe tbody tr th {\n",
       "        vertical-align: top;\n",
       "    }\n",
       "\n",
       "    .dataframe thead th {\n",
       "        text-align: right;\n",
       "    }\n",
       "</style>\n",
       "<table border=\"1\" class=\"dataframe\">\n",
       "  <thead>\n",
       "    <tr style=\"text-align: right;\">\n",
       "      <th></th>\n",
       "      <th>datetime x segment_id</th>\n",
       "      <th>datetime</th>\n",
       "      <th>segment_id</th>\n",
       "      <th>y</th>\n",
       "      <th>day</th>\n",
       "      <th>min</th>\n",
       "    </tr>\n",
       "  </thead>\n",
       "  <tbody>\n",
       "    <tr>\n",
       "      <th>0</th>\n",
       "      <td>2017-01-01 00:00:00 x S0B3CGQ</td>\n",
       "      <td>2017-01-01</td>\n",
       "      <td>S0B3CGQ</td>\n",
       "      <td>0</td>\n",
       "      <td>Sunday</td>\n",
       "      <td>0</td>\n",
       "    </tr>\n",
       "    <tr>\n",
       "      <th>1</th>\n",
       "      <td>2017-01-01 00:00:00 x RYJYAPI</td>\n",
       "      <td>2017-01-01</td>\n",
       "      <td>RYJYAPI</td>\n",
       "      <td>0</td>\n",
       "      <td>Sunday</td>\n",
       "      <td>0</td>\n",
       "    </tr>\n",
       "    <tr>\n",
       "      <th>2</th>\n",
       "      <td>2017-01-01 00:00:00 x U3KP57C</td>\n",
       "      <td>2017-01-01</td>\n",
       "      <td>U3KP57C</td>\n",
       "      <td>0</td>\n",
       "      <td>Sunday</td>\n",
       "      <td>0</td>\n",
       "    </tr>\n",
       "    <tr>\n",
       "      <th>3</th>\n",
       "      <td>2017-01-01 00:00:00 x RY0TRQ8</td>\n",
       "      <td>2017-01-01</td>\n",
       "      <td>RY0TRQ8</td>\n",
       "      <td>0</td>\n",
       "      <td>Sunday</td>\n",
       "      <td>0</td>\n",
       "    </tr>\n",
       "    <tr>\n",
       "      <th>4</th>\n",
       "      <td>2017-01-01 00:00:00 x 8LOVJZ3</td>\n",
       "      <td>2017-01-01</td>\n",
       "      <td>8LOVJZ3</td>\n",
       "      <td>0</td>\n",
       "      <td>Sunday</td>\n",
       "      <td>0</td>\n",
       "    </tr>\n",
       "  </tbody>\n",
       "</table>\n",
       "</div>"
      ],
      "text/plain": [
       "           datetime x segment_id   datetime segment_id  y     day  min\n",
       "0  2017-01-01 00:00:00 x S0B3CGQ 2017-01-01    S0B3CGQ  0  Sunday    0\n",
       "1  2017-01-01 00:00:00 x RYJYAPI 2017-01-01    RYJYAPI  0  Sunday    0\n",
       "2  2017-01-01 00:00:00 x U3KP57C 2017-01-01    U3KP57C  0  Sunday    0\n",
       "3  2017-01-01 00:00:00 x RY0TRQ8 2017-01-01    RY0TRQ8  0  Sunday    0\n",
       "4  2017-01-01 00:00:00 x 8LOVJZ3 2017-01-01    8LOVJZ3  0  Sunday    0"
      ]
     },
     "execution_count": 10,
     "metadata": {
      "tags": []
     },
     "output_type": "execute_result"
    }
   ],
   "source": [
    "train['min'] = train['datetime'].dt.hour*60+train['datetime'].dt.minute\n",
    "train.head()"
   ]
  },
  {
   "cell_type": "code",
   "execution_count": 0,
   "metadata": {
    "colab": {
     "base_uri": "https://localhost:8080/",
     "height": 142
    },
    "colab_type": "code",
    "id": "yozLX_C5ygqy",
    "outputId": "11309981-0e86-4b7e-c862-ded778b72121"
   },
   "outputs": [
    {
     "data": {
      "text/html": [
       "<div>\n",
       "<style scoped>\n",
       "    .dataframe tbody tr th:only-of-type {\n",
       "        vertical-align: middle;\n",
       "    }\n",
       "\n",
       "    .dataframe tbody tr th {\n",
       "        vertical-align: top;\n",
       "    }\n",
       "\n",
       "    .dataframe thead th {\n",
       "        text-align: right;\n",
       "    }\n",
       "</style>\n",
       "<table border=\"1\" class=\"dataframe\">\n",
       "  <thead>\n",
       "    <tr style=\"text-align: right;\">\n",
       "      <th></th>\n",
       "      <th>longitude</th>\n",
       "      <th>latitude</th>\n",
       "    </tr>\n",
       "    <tr>\n",
       "      <th>road_segment_id</th>\n",
       "      <th></th>\n",
       "      <th></th>\n",
       "    </tr>\n",
       "  </thead>\n",
       "  <tbody>\n",
       "    <tr>\n",
       "      <th>03RHJ3G</th>\n",
       "      <td>18.460052</td>\n",
       "      <td>-33.943181</td>\n",
       "    </tr>\n",
       "    <tr>\n",
       "      <th>044ZYVD</th>\n",
       "      <td>18.555037</td>\n",
       "      <td>-33.890148</td>\n",
       "    </tr>\n",
       "  </tbody>\n",
       "</table>\n",
       "</div>"
      ],
      "text/plain": [
       "                 longitude   latitude\n",
       "road_segment_id                      \n",
       "03RHJ3G          18.460052 -33.943181\n",
       "044ZYVD          18.555037 -33.890148"
      ]
     },
     "execution_count": 11,
     "metadata": {
      "tags": []
     },
     "output_type": "execute_result"
    }
   ],
   "source": [
    "locations = data.groupby('road_segment_id').mean()[['longitude', 'latitude']]\n",
    "locations.head(2)"
   ]
  },
  {
   "cell_type": "code",
   "execution_count": 0,
   "metadata": {
    "colab": {
     "base_uri": "https://localhost:8080/",
     "height": 204
    },
    "colab_type": "code",
    "id": "hPmTL72zygq1",
    "outputId": "82da8844-8b78-423c-e68f-285b701b886a"
   },
   "outputs": [
    {
     "data": {
      "text/html": [
       "<div>\n",
       "<style scoped>\n",
       "    .dataframe tbody tr th:only-of-type {\n",
       "        vertical-align: middle;\n",
       "    }\n",
       "\n",
       "    .dataframe tbody tr th {\n",
       "        vertical-align: top;\n",
       "    }\n",
       "\n",
       "    .dataframe thead th {\n",
       "        text-align: right;\n",
       "    }\n",
       "</style>\n",
       "<table border=\"1\" class=\"dataframe\">\n",
       "  <thead>\n",
       "    <tr style=\"text-align: right;\">\n",
       "      <th></th>\n",
       "      <th>datetime x segment_id</th>\n",
       "      <th>datetime</th>\n",
       "      <th>segment_id</th>\n",
       "      <th>y</th>\n",
       "      <th>day</th>\n",
       "      <th>min</th>\n",
       "      <th>longitude</th>\n",
       "      <th>latitude</th>\n",
       "    </tr>\n",
       "  </thead>\n",
       "  <tbody>\n",
       "    <tr>\n",
       "      <th>0</th>\n",
       "      <td>2017-01-01 00:00:00 x S0B3CGQ</td>\n",
       "      <td>2017-01-01 00:00:00</td>\n",
       "      <td>S0B3CGQ</td>\n",
       "      <td>0</td>\n",
       "      <td>Sunday</td>\n",
       "      <td>0</td>\n",
       "      <td>18.541422</td>\n",
       "      <td>-33.888613</td>\n",
       "    </tr>\n",
       "    <tr>\n",
       "      <th>1</th>\n",
       "      <td>2017-01-01 01:00:00 x S0B3CGQ</td>\n",
       "      <td>2017-01-01 01:00:00</td>\n",
       "      <td>S0B3CGQ</td>\n",
       "      <td>0</td>\n",
       "      <td>Sunday</td>\n",
       "      <td>60</td>\n",
       "      <td>18.541422</td>\n",
       "      <td>-33.888613</td>\n",
       "    </tr>\n",
       "    <tr>\n",
       "      <th>2</th>\n",
       "      <td>2017-01-01 02:00:00 x S0B3CGQ</td>\n",
       "      <td>2017-01-01 02:00:00</td>\n",
       "      <td>S0B3CGQ</td>\n",
       "      <td>0</td>\n",
       "      <td>Sunday</td>\n",
       "      <td>120</td>\n",
       "      <td>18.541422</td>\n",
       "      <td>-33.888613</td>\n",
       "    </tr>\n",
       "    <tr>\n",
       "      <th>3</th>\n",
       "      <td>2017-01-01 03:00:00 x S0B3CGQ</td>\n",
       "      <td>2017-01-01 03:00:00</td>\n",
       "      <td>S0B3CGQ</td>\n",
       "      <td>0</td>\n",
       "      <td>Sunday</td>\n",
       "      <td>180</td>\n",
       "      <td>18.541422</td>\n",
       "      <td>-33.888613</td>\n",
       "    </tr>\n",
       "    <tr>\n",
       "      <th>4</th>\n",
       "      <td>2017-01-01 04:00:00 x S0B3CGQ</td>\n",
       "      <td>2017-01-01 04:00:00</td>\n",
       "      <td>S0B3CGQ</td>\n",
       "      <td>0</td>\n",
       "      <td>Sunday</td>\n",
       "      <td>240</td>\n",
       "      <td>18.541422</td>\n",
       "      <td>-33.888613</td>\n",
       "    </tr>\n",
       "  </tbody>\n",
       "</table>\n",
       "</div>"
      ],
      "text/plain": [
       "           datetime x segment_id            datetime  ...  longitude   latitude\n",
       "0  2017-01-01 00:00:00 x S0B3CGQ 2017-01-01 00:00:00  ...  18.541422 -33.888613\n",
       "1  2017-01-01 01:00:00 x S0B3CGQ 2017-01-01 01:00:00  ...  18.541422 -33.888613\n",
       "2  2017-01-01 02:00:00 x S0B3CGQ 2017-01-01 02:00:00  ...  18.541422 -33.888613\n",
       "3  2017-01-01 03:00:00 x S0B3CGQ 2017-01-01 03:00:00  ...  18.541422 -33.888613\n",
       "4  2017-01-01 04:00:00 x S0B3CGQ 2017-01-01 04:00:00  ...  18.541422 -33.888613\n",
       "\n",
       "[5 rows x 8 columns]"
      ]
     },
     "execution_count": 12,
     "metadata": {
      "tags": []
     },
     "output_type": "execute_result"
    }
   ],
   "source": [
    "train = pd.merge(train, locations, left_on='segment_id', right_on='road_segment_id')\n",
    "train.head()"
   ]
  },
  {
   "cell_type": "markdown",
   "metadata": {
    "colab_type": "text",
    "id": "7a-p9dPCygq5"
   },
   "source": [
    "Cleaning up some things we don't need to save RAM"
   ]
  },
  {
   "cell_type": "code",
   "execution_count": 0,
   "metadata": {
    "colab": {},
    "colab_type": "code",
    "id": "wskOIJZpygq7"
   },
   "outputs": [],
   "source": [
    "data, local_test = 0, 0"
   ]
  },
  {
   "cell_type": "markdown",
   "metadata": {
    "colab_type": "text",
    "id": "1Al2O0nkygq_"
   },
   "source": [
    "# Creating and training a model"
   ]
  },
  {
   "cell_type": "markdown",
   "metadata": {
    "colab_type": "text",
    "id": "8nGD7_LeygrB"
   },
   "source": [
    "I like CatBoost because you don't have to do much to get a decent set of predictions. Categorical columns are easy to deal with and it doesn't take hours to train. THat said, use whatever you like here!"
   ]
  },
  {
   "cell_type": "code",
   "execution_count": 0,
   "metadata": {
    "colab": {
     "base_uri": "https://localhost:8080/",
     "height": 360
    },
    "colab_type": "code",
    "id": "4Qe71otK5ifX",
    "outputId": "7236734a-e747-4de9-edde-d2f93f007718"
   },
   "outputs": [
    {
     "name": "stdout",
     "output_type": "stream",
     "text": [
      "Collecting catboost\n",
      "\u001b[?25l  Downloading https://files.pythonhosted.org/packages/7c/8d/ca8799e7b7cd1c5f84c1e92e6d3dd81ff03957211c959c0d4c027e95888a/catboost-0.20-cp36-none-manylinux1_x86_64.whl (63.6MB)\n",
      "\u001b[K     |████████████████████████████████| 63.6MB 32kB/s \n",
      "\u001b[?25hRequirement already satisfied: plotly in /usr/local/lib/python3.6/dist-packages (from catboost) (4.1.1)\n",
      "Requirement already satisfied: numpy>=1.16.0 in /usr/local/lib/python3.6/dist-packages (from catboost) (1.17.4)\n",
      "Requirement already satisfied: graphviz in /usr/local/lib/python3.6/dist-packages (from catboost) (0.10.1)\n",
      "Requirement already satisfied: pandas>=0.24.0 in /usr/local/lib/python3.6/dist-packages (from catboost) (0.25.3)\n",
      "Requirement already satisfied: matplotlib in /usr/local/lib/python3.6/dist-packages (from catboost) (3.1.1)\n",
      "Requirement already satisfied: scipy in /usr/local/lib/python3.6/dist-packages (from catboost) (1.3.2)\n",
      "Requirement already satisfied: six in /usr/local/lib/python3.6/dist-packages (from catboost) (1.12.0)\n",
      "Requirement already satisfied: retrying>=1.3.3 in /usr/local/lib/python3.6/dist-packages (from plotly->catboost) (1.3.3)\n",
      "Requirement already satisfied: pytz>=2017.2 in /usr/local/lib/python3.6/dist-packages (from pandas>=0.24.0->catboost) (2018.9)\n",
      "Requirement already satisfied: python-dateutil>=2.6.1 in /usr/local/lib/python3.6/dist-packages (from pandas>=0.24.0->catboost) (2.6.1)\n",
      "Requirement already satisfied: kiwisolver>=1.0.1 in /usr/local/lib/python3.6/dist-packages (from matplotlib->catboost) (1.1.0)\n",
      "Requirement already satisfied: pyparsing!=2.0.4,!=2.1.2,!=2.1.6,>=2.0.1 in /usr/local/lib/python3.6/dist-packages (from matplotlib->catboost) (2.4.5)\n",
      "Requirement already satisfied: cycler>=0.10 in /usr/local/lib/python3.6/dist-packages (from matplotlib->catboost) (0.10.0)\n",
      "Requirement already satisfied: setuptools in /usr/local/lib/python3.6/dist-packages (from kiwisolver>=1.0.1->matplotlib->catboost) (41.6.0)\n",
      "Installing collected packages: catboost\n",
      "Successfully installed catboost-0.20\n"
     ]
    }
   ],
   "source": [
    "!pip install catboost"
   ]
  },
  {
   "cell_type": "code",
   "execution_count": 0,
   "metadata": {
    "colab": {
     "base_uri": "https://localhost:8080/",
     "height": 34
    },
    "colab_type": "code",
    "id": "40IYNXx1ygrC",
    "outputId": "40409be0-e59e-42ac-977c-9c36d4fa833f"
   },
   "outputs": [
    {
     "data": {
      "text/plain": [
       "<catboost.core.CatBoostClassifier at 0x7f479e532400>"
      ]
     },
     "execution_count": 15,
     "metadata": {
      "tags": []
     },
     "output_type": "execute_result"
    }
   ],
   "source": [
    "from catboost import CatBoostClassifier\n",
    "\n",
    "# Create the model\n",
    "model = CatBoostClassifier(iterations=20, \n",
    "                           loss_function='Logloss', \n",
    "                           verbose=False) \n",
    "\n",
    "x_cols = ['day', 'segment_id', 'min', 'longitude', 'latitude']\n",
    "cat_cols = ['day', 'segment_id']\n",
    "\n",
    "model.fit(train[x_cols], train['y'], cat_features=cat_cols) # Takes about "
   ]
  },
  {
   "cell_type": "markdown",
   "metadata": {
    "colab_type": "text",
    "id": "3yFdRbBg8CW1"
   },
   "source": [
    "# Scoring the model\n",
    "\n",
    "We'll start by looking at log-loss, then switch to trying to get a reasonable F1 score."
   ]
  },
  {
   "cell_type": "code",
   "execution_count": 0,
   "metadata": {
    "colab": {
     "base_uri": "https://localhost:8080/",
     "height": 34
    },
    "colab_type": "code",
    "id": "aQ6yr7yHygrG",
    "outputId": "3572871e-17ea-43b5-e13e-7fbdc85aa7bc"
   },
   "outputs": [
    {
     "data": {
      "text/plain": [
       "0.01782428955171164"
      ]
     },
     "execution_count": 17,
     "metadata": {
      "tags": []
     },
     "output_type": "execute_result"
    }
   ],
   "source": [
    "# Score the model on the train set\n",
    "from sklearn.metrics import log_loss\n",
    "log_loss(train['y'], model.predict_proba(train[x_cols])[:, 1])"
   ]
  },
  {
   "cell_type": "code",
   "execution_count": 0,
   "metadata": {
    "colab": {
     "base_uri": "https://localhost:8080/",
     "height": 34
    },
    "colab_type": "code",
    "id": "7WFGqUNAygrL",
    "outputId": "d21e0790-1db7-411f-ec07-33c2bb8b74e1"
   },
   "outputs": [
    {
     "data": {
      "text/plain": [
       "0.10316012013081807"
      ]
     },
     "execution_count": 18,
     "metadata": {
      "tags": []
     },
     "output_type": "execute_result"
    }
   ],
   "source": [
    "# Is this better than just 0s?\n",
    "log_loss(train['y'], [0 for y in train['y']]) #yes!"
   ]
  },
  {
   "cell_type": "code",
   "execution_count": 0,
   "metadata": {
    "colab": {},
    "colab_type": "code",
    "id": "vOOYOR9mygrP"
   },
   "outputs": [],
   "source": [
    "# Pre-process the test to match train\n",
    "test['datetime'] = pd.to_datetime(test['datetime'])\n",
    "test['day'] = test['datetime'].dt.weekday_name\n",
    "test['min'] = test['datetime'].dt.hour*60+test['datetime'].dt.minute\n",
    "test = pd.merge(test, locations, left_on='segment_id', right_on='road_segment_id')"
   ]
  },
  {
   "cell_type": "code",
   "execution_count": 0,
   "metadata": {
    "colab": {
     "base_uri": "https://localhost:8080/",
     "height": 34
    },
    "colab_type": "code",
    "id": "ocaXVT4LygrT",
    "outputId": "5472d6ea-3516-49a2-9866-826040124cf6"
   },
   "outputs": [
    {
     "data": {
      "text/plain": [
       "0.03622208322031835"
      ]
     },
     "execution_count": 20,
     "metadata": {
      "tags": []
     },
     "output_type": "execute_result"
    }
   ],
   "source": [
    "# The important score\n",
    "log_loss(test['y'], model.predict_proba(test[x_cols])[:, 1])"
   ]
  },
  {
   "cell_type": "markdown",
   "metadata": {
    "colab_type": "text",
    "id": "tncTHFDAygrW"
   },
   "source": [
    "### Now the hard part. Zindi wants binary predictions for the F1 score, but all our probabilities are low. Still, our F1 score will be 0 if we predict all 0s, so we need to pick a threshold that gives some 1s. Let's try a few things"
   ]
  },
  {
   "cell_type": "code",
   "execution_count": 0,
   "metadata": {
    "colab": {
     "base_uri": "https://localhost:8080/",
     "height": 88
    },
    "colab_type": "code",
    "id": "UWaKnDZv5rLh",
    "outputId": "34db4b22-ce2c-46fd-adf0-7b7587d0fc7e"
   },
   "outputs": [
    {
     "name": "stderr",
     "output_type": "stream",
     "text": [
      "/usr/local/lib/python3.6/dist-packages/sklearn/metrics/classification.py:1437: UndefinedMetricWarning: F-score is ill-defined and being set to 0.0 due to no predicted samples.\n",
      "  'precision', 'predicted', average, warn_for)\n"
     ]
    },
    {
     "data": {
      "text/plain": [
       "0.0"
      ]
     },
     "execution_count": 21,
     "metadata": {
      "tags": []
     },
     "output_type": "execute_result"
    }
   ],
   "source": [
    "# First, just using .predict\n",
    "from sklearn.metrics import f1_score\n",
    "f1_score(test['y'], model.predict(test[x_cols]))"
   ]
  },
  {
   "cell_type": "code",
   "execution_count": 0,
   "metadata": {
    "colab": {
     "base_uri": "https://localhost:8080/",
     "height": 204
    },
    "colab_type": "code",
    "id": "9U9yP8Nw7TE1",
    "outputId": "f27ac232-7eb8-4d79-876c-229280852423"
   },
   "outputs": [
    {
     "data": {
      "text/html": [
       "<div>\n",
       "<style scoped>\n",
       "    .dataframe tbody tr th:only-of-type {\n",
       "        vertical-align: middle;\n",
       "    }\n",
       "\n",
       "    .dataframe tbody tr th {\n",
       "        vertical-align: top;\n",
       "    }\n",
       "\n",
       "    .dataframe thead th {\n",
       "        text-align: right;\n",
       "    }\n",
       "</style>\n",
       "<table border=\"1\" class=\"dataframe\">\n",
       "  <thead>\n",
       "    <tr style=\"text-align: right;\">\n",
       "      <th></th>\n",
       "      <th>datetime x segment_id</th>\n",
       "      <th>datetime</th>\n",
       "      <th>segment_id</th>\n",
       "      <th>y</th>\n",
       "      <th>day</th>\n",
       "      <th>min</th>\n",
       "      <th>longitude</th>\n",
       "      <th>latitude</th>\n",
       "      <th>pred</th>\n",
       "      <th>gt005</th>\n",
       "    </tr>\n",
       "  </thead>\n",
       "  <tbody>\n",
       "    <tr>\n",
       "      <th>0</th>\n",
       "      <td>2018-09-01 00:00:00 x S0B3CGQ</td>\n",
       "      <td>2018-09-01 00:00:00</td>\n",
       "      <td>S0B3CGQ</td>\n",
       "      <td>0</td>\n",
       "      <td>Saturday</td>\n",
       "      <td>0</td>\n",
       "      <td>18.541422</td>\n",
       "      <td>-33.888613</td>\n",
       "      <td>0.014620</td>\n",
       "      <td>1</td>\n",
       "    </tr>\n",
       "    <tr>\n",
       "      <th>1</th>\n",
       "      <td>2018-09-01 01:00:00 x S0B3CGQ</td>\n",
       "      <td>2018-09-01 01:00:00</td>\n",
       "      <td>S0B3CGQ</td>\n",
       "      <td>0</td>\n",
       "      <td>Saturday</td>\n",
       "      <td>60</td>\n",
       "      <td>18.541422</td>\n",
       "      <td>-33.888613</td>\n",
       "      <td>0.001926</td>\n",
       "      <td>0</td>\n",
       "    </tr>\n",
       "    <tr>\n",
       "      <th>2</th>\n",
       "      <td>2018-09-01 02:00:00 x S0B3CGQ</td>\n",
       "      <td>2018-09-01 02:00:00</td>\n",
       "      <td>S0B3CGQ</td>\n",
       "      <td>0</td>\n",
       "      <td>Saturday</td>\n",
       "      <td>120</td>\n",
       "      <td>18.541422</td>\n",
       "      <td>-33.888613</td>\n",
       "      <td>0.001926</td>\n",
       "      <td>0</td>\n",
       "    </tr>\n",
       "    <tr>\n",
       "      <th>3</th>\n",
       "      <td>2018-09-01 03:00:00 x S0B3CGQ</td>\n",
       "      <td>2018-09-01 03:00:00</td>\n",
       "      <td>S0B3CGQ</td>\n",
       "      <td>0</td>\n",
       "      <td>Saturday</td>\n",
       "      <td>180</td>\n",
       "      <td>18.541422</td>\n",
       "      <td>-33.888613</td>\n",
       "      <td>0.001923</td>\n",
       "      <td>0</td>\n",
       "    </tr>\n",
       "    <tr>\n",
       "      <th>4</th>\n",
       "      <td>2018-09-01 04:00:00 x S0B3CGQ</td>\n",
       "      <td>2018-09-01 04:00:00</td>\n",
       "      <td>S0B3CGQ</td>\n",
       "      <td>0</td>\n",
       "      <td>Saturday</td>\n",
       "      <td>240</td>\n",
       "      <td>18.541422</td>\n",
       "      <td>-33.888613</td>\n",
       "      <td>0.001923</td>\n",
       "      <td>0</td>\n",
       "    </tr>\n",
       "  </tbody>\n",
       "</table>\n",
       "</div>"
      ],
      "text/plain": [
       "           datetime x segment_id            datetime  ...      pred  gt005\n",
       "0  2018-09-01 00:00:00 x S0B3CGQ 2018-09-01 00:00:00  ...  0.014620      1\n",
       "1  2018-09-01 01:00:00 x S0B3CGQ 2018-09-01 01:00:00  ...  0.001926      0\n",
       "2  2018-09-01 02:00:00 x S0B3CGQ 2018-09-01 02:00:00  ...  0.001926      0\n",
       "3  2018-09-01 03:00:00 x S0B3CGQ 2018-09-01 03:00:00  ...  0.001923      0\n",
       "4  2018-09-01 04:00:00 x S0B3CGQ 2018-09-01 04:00:00  ...  0.001923      0\n",
       "\n",
       "[5 rows x 10 columns]"
      ]
     },
     "execution_count": 22,
     "metadata": {
      "tags": []
     },
     "output_type": "execute_result"
    }
   ],
   "source": [
    "# Let's predict 1 even if the prob is just > 0.005\n",
    "test['pred'] = model.predict_proba(test[x_cols])[:,1]\n",
    "test['gt005'] = (test['pred']>0.005).astype(int)\n",
    "test.head()"
   ]
  },
  {
   "cell_type": "code",
   "execution_count": 0,
   "metadata": {
    "colab": {
     "base_uri": "https://localhost:8080/",
     "height": 34
    },
    "colab_type": "code",
    "id": "P0P-m9AW7Ck2",
    "outputId": "1efeaf05-cdc2-4c51-ad42-5e62f9490ff9"
   },
   "outputs": [
    {
     "data": {
      "text/plain": [
       "0.03784768535085722"
      ]
     },
     "execution_count": 23,
     "metadata": {
      "tags": []
     },
     "output_type": "execute_result"
    }
   ],
   "source": [
    "f1_score(test['y'], test['gt005'])"
   ]
  },
  {
   "cell_type": "code",
   "execution_count": 0,
   "metadata": {
    "colab": {
     "base_uri": "https://localhost:8080/",
     "height": 34
    },
    "colab_type": "code",
    "id": "LEDaJvN_53lp",
    "outputId": "5a5a24ac-f358-4d33-fc35-0d799a8eb573"
   },
   "outputs": [
    {
     "data": {
      "text/plain": [
       "0.015493569953524067"
      ]
     },
     "execution_count": 24,
     "metadata": {
      "tags": []
     },
     "output_type": "execute_result"
    }
   ],
   "source": [
    "# WHat about an even lower threshold?\n",
    "test['gt0005'] = (test['pred']>0.0005).astype(int)\n",
    "f1_score(test['y'], test['gt0005'])"
   ]
  },
  {
   "cell_type": "code",
   "execution_count": 0,
   "metadata": {
    "colab": {
     "base_uri": "https://localhost:8080/",
     "height": 34
    },
    "colab_type": "code",
    "id": "klmzzvEk8q-t",
    "outputId": "8e776445-fc78-4e97-d928-6cabb9ec51bf"
   },
   "outputs": [
    {
     "data": {
      "text/plain": [
       "0.05879482800683093"
      ]
     },
     "execution_count": 25,
     "metadata": {
      "tags": []
     },
     "output_type": "execute_result"
    }
   ],
   "source": [
    "# Hmm. And a higher 1?\n",
    "test['gt05'] = (test['pred']>0.05).astype(int)\n",
    "f1_score(test['y'], test['gt05'])"
   ]
  },
  {
   "cell_type": "markdown",
   "metadata": {
    "colab_type": "text",
    "id": "f9cJ87hB84ld"
   },
   "source": [
    "There are better ways to do this than picking randomly. Hint: look at how often events occur on average, or just do a search for the best."
   ]
  },
  {
   "cell_type": "markdown",
   "metadata": {
    "colab_type": "text",
    "id": "ao8j9L2bygrb"
   },
   "source": [
    "# Making a submission"
   ]
  },
  {
   "cell_type": "markdown",
   "metadata": {
    "colab_type": "text",
    "id": "lyvkChFMygrf"
   },
   "source": [
    "This is where you generate something that can be uploaded to Zindi to get a score. These are big files, so don't do this often - work with local tests until you really have an improvement before you tax their poor server."
   ]
  },
  {
   "cell_type": "code",
   "execution_count": 0,
   "metadata": {
    "colab": {
     "base_uri": "https://localhost:8080/",
     "height": 204
    },
    "colab_type": "code",
    "id": "FVmUwv6Qygrg",
    "outputId": "c1bdf5a5-d1e7-4c56-87b6-baaa35116cb3"
   },
   "outputs": [
    {
     "data": {
      "text/html": [
       "<div>\n",
       "<style scoped>\n",
       "    .dataframe tbody tr th:only-of-type {\n",
       "        vertical-align: middle;\n",
       "    }\n",
       "\n",
       "    .dataframe tbody tr th {\n",
       "        vertical-align: top;\n",
       "    }\n",
       "\n",
       "    .dataframe thead th {\n",
       "        text-align: right;\n",
       "    }\n",
       "</style>\n",
       "<table border=\"1\" class=\"dataframe\">\n",
       "  <thead>\n",
       "    <tr style=\"text-align: right;\">\n",
       "      <th></th>\n",
       "      <th>datetime x segment_id</th>\n",
       "      <th>datetime</th>\n",
       "      <th>segment_id</th>\n",
       "    </tr>\n",
       "  </thead>\n",
       "  <tbody>\n",
       "    <tr>\n",
       "      <th>0</th>\n",
       "      <td>2019-01-01 01:00:00 x S0B3CGQ</td>\n",
       "      <td>2019-01-01 01:00:00</td>\n",
       "      <td>S0B3CGQ</td>\n",
       "    </tr>\n",
       "    <tr>\n",
       "      <th>1</th>\n",
       "      <td>2019-01-01 01:00:00 x RYJYAPI</td>\n",
       "      <td>2019-01-01 01:00:00</td>\n",
       "      <td>RYJYAPI</td>\n",
       "    </tr>\n",
       "    <tr>\n",
       "      <th>2</th>\n",
       "      <td>2019-01-01 01:00:00 x U3KP57C</td>\n",
       "      <td>2019-01-01 01:00:00</td>\n",
       "      <td>U3KP57C</td>\n",
       "    </tr>\n",
       "    <tr>\n",
       "      <th>3</th>\n",
       "      <td>2019-01-01 01:00:00 x RY0TRQ8</td>\n",
       "      <td>2019-01-01 01:00:00</td>\n",
       "      <td>RY0TRQ8</td>\n",
       "    </tr>\n",
       "    <tr>\n",
       "      <th>4</th>\n",
       "      <td>2019-01-01 01:00:00 x 8LOVJZ3</td>\n",
       "      <td>2019-01-01 01:00:00</td>\n",
       "      <td>8LOVJZ3</td>\n",
       "    </tr>\n",
       "  </tbody>\n",
       "</table>\n",
       "</div>"
      ],
      "text/plain": [
       "           datetime x segment_id             datetime segment_id\n",
       "0  2019-01-01 01:00:00 x S0B3CGQ  2019-01-01 01:00:00    S0B3CGQ\n",
       "1  2019-01-01 01:00:00 x RYJYAPI  2019-01-01 01:00:00    RYJYAPI\n",
       "2  2019-01-01 01:00:00 x U3KP57C  2019-01-01 01:00:00    U3KP57C\n",
       "3  2019-01-01 01:00:00 x RY0TRQ8  2019-01-01 01:00:00    RY0TRQ8\n",
       "4  2019-01-01 01:00:00 x 8LOVJZ3  2019-01-01 01:00:00    8LOVJZ3"
      ]
     },
     "execution_count": 26,
     "metadata": {
      "tags": []
     },
     "output_type": "execute_result"
    }
   ],
   "source": [
    "# Make the dataframe - dates based on sample submission file\n",
    "dts = pd.date_range('2019-01-01 01:00:00',\n",
    "                    '2019-03-31 23:00:00',\n",
    "                    freq=\"1h\")\n",
    "tr = pd.DataFrame({'datetime':dts})\n",
    "\n",
    "for sid in sids:\n",
    "    tr[str(sid)] = 0\n",
    "    \n",
    "ss = pd.DataFrame({\n",
    "    'datetime x segment_id':np.concatenate([[str(x) + \" x \" + str(c)  \n",
    "                                            for x in tr['datetime']for c in sids]]),\n",
    "    'datetime':np.concatenate([[str(x) for x in tr['datetime']for c in sids]]),\n",
    "    'segment_id':np.concatenate([[str(c) for x in tr['datetime']for c in sids]])\n",
    "})\n",
    "ss.head()"
   ]
  },
  {
   "cell_type": "code",
   "execution_count": 0,
   "metadata": {
    "colab": {
     "base_uri": "https://localhost:8080/",
     "height": 204
    },
    "colab_type": "code",
    "id": "0B1tb64Sygrl",
    "outputId": "1724c0ae-a790-4d8c-828c-8f81cd52413f"
   },
   "outputs": [
    {
     "data": {
      "text/html": [
       "<div>\n",
       "<style scoped>\n",
       "    .dataframe tbody tr th:only-of-type {\n",
       "        vertical-align: middle;\n",
       "    }\n",
       "\n",
       "    .dataframe tbody tr th {\n",
       "        vertical-align: top;\n",
       "    }\n",
       "\n",
       "    .dataframe thead th {\n",
       "        text-align: right;\n",
       "    }\n",
       "</style>\n",
       "<table border=\"1\" class=\"dataframe\">\n",
       "  <thead>\n",
       "    <tr style=\"text-align: right;\">\n",
       "      <th></th>\n",
       "      <th>datetime x segment_id</th>\n",
       "      <th>datetime</th>\n",
       "      <th>segment_id</th>\n",
       "      <th>day</th>\n",
       "      <th>min</th>\n",
       "      <th>longitude</th>\n",
       "      <th>latitude</th>\n",
       "      <th>prediction</th>\n",
       "    </tr>\n",
       "  </thead>\n",
       "  <tbody>\n",
       "    <tr>\n",
       "      <th>0</th>\n",
       "      <td>2019-01-01 01:00:00 x S0B3CGQ</td>\n",
       "      <td>2019-01-01 01:00:00</td>\n",
       "      <td>S0B3CGQ</td>\n",
       "      <td>Tuesday</td>\n",
       "      <td>60</td>\n",
       "      <td>18.541422</td>\n",
       "      <td>-33.888613</td>\n",
       "      <td>0</td>\n",
       "    </tr>\n",
       "    <tr>\n",
       "      <th>1</th>\n",
       "      <td>2019-01-01 01:00:00 x RYJYAPI</td>\n",
       "      <td>2019-01-01 01:00:00</td>\n",
       "      <td>RYJYAPI</td>\n",
       "      <td>Tuesday</td>\n",
       "      <td>60</td>\n",
       "      <td>18.931088</td>\n",
       "      <td>-34.139930</td>\n",
       "      <td>0</td>\n",
       "    </tr>\n",
       "    <tr>\n",
       "      <th>2</th>\n",
       "      <td>2019-01-01 01:00:00 x U3KP57C</td>\n",
       "      <td>2019-01-01 01:00:00</td>\n",
       "      <td>U3KP57C</td>\n",
       "      <td>Tuesday</td>\n",
       "      <td>60</td>\n",
       "      <td>18.550771</td>\n",
       "      <td>-33.958279</td>\n",
       "      <td>0</td>\n",
       "    </tr>\n",
       "    <tr>\n",
       "      <th>3</th>\n",
       "      <td>2019-01-01 01:00:00 x RY0TRQ8</td>\n",
       "      <td>2019-01-01 01:00:00</td>\n",
       "      <td>RY0TRQ8</td>\n",
       "      <td>Tuesday</td>\n",
       "      <td>60</td>\n",
       "      <td>18.677475</td>\n",
       "      <td>-33.896611</td>\n",
       "      <td>0</td>\n",
       "    </tr>\n",
       "    <tr>\n",
       "      <th>4</th>\n",
       "      <td>2019-01-01 01:00:00 x 8LOVJZ3</td>\n",
       "      <td>2019-01-01 01:00:00</td>\n",
       "      <td>8LOVJZ3</td>\n",
       "      <td>Tuesday</td>\n",
       "      <td>60</td>\n",
       "      <td>18.836121</td>\n",
       "      <td>-34.086109</td>\n",
       "      <td>0</td>\n",
       "    </tr>\n",
       "  </tbody>\n",
       "</table>\n",
       "</div>"
      ],
      "text/plain": [
       "           datetime x segment_id            datetime  ...   latitude prediction\n",
       "0  2019-01-01 01:00:00 x S0B3CGQ 2019-01-01 01:00:00  ... -33.888613          0\n",
       "1  2019-01-01 01:00:00 x RYJYAPI 2019-01-01 01:00:00  ... -34.139930          0\n",
       "2  2019-01-01 01:00:00 x U3KP57C 2019-01-01 01:00:00  ... -33.958279          0\n",
       "3  2019-01-01 01:00:00 x RY0TRQ8 2019-01-01 01:00:00  ... -33.896611          0\n",
       "4  2019-01-01 01:00:00 x 8LOVJZ3 2019-01-01 01:00:00  ... -34.086109          0\n",
       "\n",
       "[5 rows x 8 columns]"
      ]
     },
     "execution_count": 27,
     "metadata": {
      "tags": []
     },
     "output_type": "execute_result"
    }
   ],
   "source": [
    "# Add the extra features\n",
    "ss['datetime'] = pd.to_datetime(ss['datetime'])\n",
    "ss['day'] = ss['datetime'].dt.weekday_name\n",
    "ss['min'] = ss['datetime'].dt.hour*60+ss['datetime'].dt.minute\n",
    "ss = pd.merge(ss, locations, left_on='segment_id', right_on='road_segment_id', how='left')\n",
    "ss['prediction'] = 0\n",
    "ss.head()"
   ]
  },
  {
   "cell_type": "code",
   "execution_count": 0,
   "metadata": {
    "colab": {
     "base_uri": "https://localhost:8080/",
     "height": 204
    },
    "colab_type": "code",
    "id": "vgnRCFmuygrq",
    "outputId": "65e0ef47-a6aa-40fd-cb9d-8a5d3ea56589"
   },
   "outputs": [
    {
     "data": {
      "text/html": [
       "<div>\n",
       "<style scoped>\n",
       "    .dataframe tbody tr th:only-of-type {\n",
       "        vertical-align: middle;\n",
       "    }\n",
       "\n",
       "    .dataframe tbody tr th {\n",
       "        vertical-align: top;\n",
       "    }\n",
       "\n",
       "    .dataframe thead th {\n",
       "        text-align: right;\n",
       "    }\n",
       "</style>\n",
       "<table border=\"1\" class=\"dataframe\">\n",
       "  <thead>\n",
       "    <tr style=\"text-align: right;\">\n",
       "      <th></th>\n",
       "      <th>datetime x segment_id</th>\n",
       "      <th>datetime</th>\n",
       "      <th>segment_id</th>\n",
       "      <th>day</th>\n",
       "      <th>min</th>\n",
       "      <th>longitude</th>\n",
       "      <th>latitude</th>\n",
       "      <th>prediction</th>\n",
       "    </tr>\n",
       "  </thead>\n",
       "  <tbody>\n",
       "    <tr>\n",
       "      <th>0</th>\n",
       "      <td>2019-01-01 01:00:00 x S0B3CGQ</td>\n",
       "      <td>2019-01-01 01:00:00</td>\n",
       "      <td>S0B3CGQ</td>\n",
       "      <td>Tuesday</td>\n",
       "      <td>60</td>\n",
       "      <td>18.541422</td>\n",
       "      <td>-33.888613</td>\n",
       "      <td>0.001926</td>\n",
       "    </tr>\n",
       "    <tr>\n",
       "      <th>1</th>\n",
       "      <td>2019-01-01 01:00:00 x RYJYAPI</td>\n",
       "      <td>2019-01-01 01:00:00</td>\n",
       "      <td>RYJYAPI</td>\n",
       "      <td>Tuesday</td>\n",
       "      <td>60</td>\n",
       "      <td>18.931088</td>\n",
       "      <td>-34.139930</td>\n",
       "      <td>0.000385</td>\n",
       "    </tr>\n",
       "    <tr>\n",
       "      <th>2</th>\n",
       "      <td>2019-01-01 01:00:00 x U3KP57C</td>\n",
       "      <td>2019-01-01 01:00:00</td>\n",
       "      <td>U3KP57C</td>\n",
       "      <td>Tuesday</td>\n",
       "      <td>60</td>\n",
       "      <td>18.550771</td>\n",
       "      <td>-33.958279</td>\n",
       "      <td>0.002197</td>\n",
       "    </tr>\n",
       "    <tr>\n",
       "      <th>3</th>\n",
       "      <td>2019-01-01 01:00:00 x RY0TRQ8</td>\n",
       "      <td>2019-01-01 01:00:00</td>\n",
       "      <td>RY0TRQ8</td>\n",
       "      <td>Tuesday</td>\n",
       "      <td>60</td>\n",
       "      <td>18.677475</td>\n",
       "      <td>-33.896611</td>\n",
       "      <td>0.001078</td>\n",
       "    </tr>\n",
       "    <tr>\n",
       "      <th>4</th>\n",
       "      <td>2019-01-01 01:00:00 x 8LOVJZ3</td>\n",
       "      <td>2019-01-01 01:00:00</td>\n",
       "      <td>8LOVJZ3</td>\n",
       "      <td>Tuesday</td>\n",
       "      <td>60</td>\n",
       "      <td>18.836121</td>\n",
       "      <td>-34.086109</td>\n",
       "      <td>0.004495</td>\n",
       "    </tr>\n",
       "  </tbody>\n",
       "</table>\n",
       "</div>"
      ],
      "text/plain": [
       "           datetime x segment_id            datetime  ...   latitude prediction\n",
       "0  2019-01-01 01:00:00 x S0B3CGQ 2019-01-01 01:00:00  ... -33.888613   0.001926\n",
       "1  2019-01-01 01:00:00 x RYJYAPI 2019-01-01 01:00:00  ... -34.139930   0.000385\n",
       "2  2019-01-01 01:00:00 x U3KP57C 2019-01-01 01:00:00  ... -33.958279   0.002197\n",
       "3  2019-01-01 01:00:00 x RY0TRQ8 2019-01-01 01:00:00  ... -33.896611   0.001078\n",
       "4  2019-01-01 01:00:00 x 8LOVJZ3 2019-01-01 01:00:00  ... -34.086109   0.004495\n",
       "\n",
       "[5 rows x 8 columns]"
      ]
     },
     "execution_count": 28,
     "metadata": {
      "tags": []
     },
     "output_type": "execute_result"
    }
   ],
   "source": [
    "# Make predictions\n",
    "ss['prediction'] = model.predict_proba(ss[x_cols])[:, 1] \n",
    "ss.head()"
   ]
  },
  {
   "cell_type": "code",
   "execution_count": 0,
   "metadata": {
    "colab": {},
    "colab_type": "code",
    "id": "GpNbzA2S9Fsy"
   },
   "outputs": [],
   "source": [
    "# Changing to binary with our threshold:\n",
    "ss['prediction'] = (ss['prediction']>0.05).astype(int)"
   ]
  },
  {
   "cell_type": "code",
   "execution_count": 0,
   "metadata": {
    "colab": {
     "base_uri": "https://localhost:8080/",
     "height": 204
    },
    "colab_type": "code",
    "id": "8GRzDYTC9VPt",
    "outputId": "5f7e6f4d-d2f4-4de4-b3b8-6b3cf1ca891a"
   },
   "outputs": [
    {
     "data": {
      "text/html": [
       "<div>\n",
       "<style scoped>\n",
       "    .dataframe tbody tr th:only-of-type {\n",
       "        vertical-align: middle;\n",
       "    }\n",
       "\n",
       "    .dataframe tbody tr th {\n",
       "        vertical-align: top;\n",
       "    }\n",
       "\n",
       "    .dataframe thead th {\n",
       "        text-align: right;\n",
       "    }\n",
       "</style>\n",
       "<table border=\"1\" class=\"dataframe\">\n",
       "  <thead>\n",
       "    <tr style=\"text-align: right;\">\n",
       "      <th></th>\n",
       "      <th>datetime x segment_id</th>\n",
       "      <th>datetime</th>\n",
       "      <th>segment_id</th>\n",
       "      <th>day</th>\n",
       "      <th>min</th>\n",
       "      <th>longitude</th>\n",
       "      <th>latitude</th>\n",
       "      <th>prediction</th>\n",
       "    </tr>\n",
       "  </thead>\n",
       "  <tbody>\n",
       "    <tr>\n",
       "      <th>0</th>\n",
       "      <td>2019-01-01 01:00:00 x S0B3CGQ</td>\n",
       "      <td>2019-01-01 01:00:00</td>\n",
       "      <td>S0B3CGQ</td>\n",
       "      <td>Tuesday</td>\n",
       "      <td>60</td>\n",
       "      <td>18.541422</td>\n",
       "      <td>-33.888613</td>\n",
       "      <td>0</td>\n",
       "    </tr>\n",
       "    <tr>\n",
       "      <th>1</th>\n",
       "      <td>2019-01-01 01:00:00 x RYJYAPI</td>\n",
       "      <td>2019-01-01 01:00:00</td>\n",
       "      <td>RYJYAPI</td>\n",
       "      <td>Tuesday</td>\n",
       "      <td>60</td>\n",
       "      <td>18.931088</td>\n",
       "      <td>-34.139930</td>\n",
       "      <td>0</td>\n",
       "    </tr>\n",
       "    <tr>\n",
       "      <th>2</th>\n",
       "      <td>2019-01-01 01:00:00 x U3KP57C</td>\n",
       "      <td>2019-01-01 01:00:00</td>\n",
       "      <td>U3KP57C</td>\n",
       "      <td>Tuesday</td>\n",
       "      <td>60</td>\n",
       "      <td>18.550771</td>\n",
       "      <td>-33.958279</td>\n",
       "      <td>0</td>\n",
       "    </tr>\n",
       "    <tr>\n",
       "      <th>3</th>\n",
       "      <td>2019-01-01 01:00:00 x RY0TRQ8</td>\n",
       "      <td>2019-01-01 01:00:00</td>\n",
       "      <td>RY0TRQ8</td>\n",
       "      <td>Tuesday</td>\n",
       "      <td>60</td>\n",
       "      <td>18.677475</td>\n",
       "      <td>-33.896611</td>\n",
       "      <td>0</td>\n",
       "    </tr>\n",
       "    <tr>\n",
       "      <th>4</th>\n",
       "      <td>2019-01-01 01:00:00 x 8LOVJZ3</td>\n",
       "      <td>2019-01-01 01:00:00</td>\n",
       "      <td>8LOVJZ3</td>\n",
       "      <td>Tuesday</td>\n",
       "      <td>60</td>\n",
       "      <td>18.836121</td>\n",
       "      <td>-34.086109</td>\n",
       "      <td>0</td>\n",
       "    </tr>\n",
       "  </tbody>\n",
       "</table>\n",
       "</div>"
      ],
      "text/plain": [
       "           datetime x segment_id            datetime  ...   latitude prediction\n",
       "0  2019-01-01 01:00:00 x S0B3CGQ 2019-01-01 01:00:00  ... -33.888613          0\n",
       "1  2019-01-01 01:00:00 x RYJYAPI 2019-01-01 01:00:00  ... -34.139930          0\n",
       "2  2019-01-01 01:00:00 x U3KP57C 2019-01-01 01:00:00  ... -33.958279          0\n",
       "3  2019-01-01 01:00:00 x RY0TRQ8 2019-01-01 01:00:00  ... -33.896611          0\n",
       "4  2019-01-01 01:00:00 x 8LOVJZ3 2019-01-01 01:00:00  ... -34.086109          0\n",
       "\n",
       "[5 rows x 8 columns]"
      ]
     },
     "execution_count": 30,
     "metadata": {
      "tags": []
     },
     "output_type": "execute_result"
    }
   ],
   "source": [
    "ss.head()"
   ]
  },
  {
   "cell_type": "code",
   "execution_count": 0,
   "metadata": {
    "colab": {
     "base_uri": "https://localhost:8080/",
     "height": 34
    },
    "colab_type": "code",
    "id": "yH-KPqcuG4ni",
    "outputId": "7e6a11d6-0ad3-4573-d0c9-74bccd60d5d3"
   },
   "outputs": [
    {
     "data": {
      "text/plain": [
       "(1174496, 8)"
      ]
     },
     "execution_count": 31,
     "metadata": {
      "tags": []
     },
     "output_type": "execute_result"
    }
   ],
   "source": [
    "ss.shape"
   ]
  },
  {
   "cell_type": "code",
   "execution_count": 0,
   "metadata": {
    "colab": {},
    "colab_type": "code",
    "id": "qJmV3grEygru"
   },
   "outputs": [],
   "source": [
    "# Save to CSV and submit\n",
    "ss[['datetime x segment_id', 'prediction']].to_csv('starter_notebook.csv', index=False)"
   ]
  },
  {
   "cell_type": "markdown",
   "metadata": {
    "colab_type": "text",
    "id": "Mtc1kKh09chr"
   },
   "source": [
    "### And that's it. Tweak things here and test locally - don't waste time constantly submitting and waiting on Zindi's score. Some suggested Improvements:\n",
    "\n",
    "\n",
    "\n",
    "*   Add more features. The roads shapefile has some juicy details on number of lanes, road conditions...\n",
    "*   Use Uber Movement. You can get travel times to neighbouring areas for the locations of each segment. Might be useful!\n",
    "*   Tweak the model. Look at ways to deal with imbalanced data.\n",
    "*   Train on all the available data (not just 2017 as in this example)\n",
    "\n",
    "Good luck :)\n",
    "\n",
    "\n",
    "\n"
   ]
  }
 ],
 "metadata": {
  "colab": {
   "name": "Example Submission Catboost.ipynb",
   "provenance": [],
   "toc_visible": true
  },
  "kernelspec": {
   "display_name": "Python 3",
   "language": "python",
   "name": "python3"
  },
  "language_info": {
   "codemirror_mode": {
    "name": "ipython",
    "version": 3
   },
   "file_extension": ".py",
   "mimetype": "text/x-python",
   "name": "python",
   "nbconvert_exporter": "python",
   "pygments_lexer": "ipython3",
   "version": "3.6.8"
  }
 },
 "nbformat": 4,
 "nbformat_minor": 1
}
